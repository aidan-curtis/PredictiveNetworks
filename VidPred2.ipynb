{
 "cells": [
  {
   "cell_type": "code",
   "execution_count": 1,
   "metadata": {},
   "outputs": [],
   "source": [
    "import numpy as np\n",
    "import matplotlib.pyplot as plt\n",
    "import imageio\n",
    "from tempfile import TemporaryFile\n",
    "%matplotlib inline"
   ]
  },
  {
   "cell_type": "code",
   "execution_count": 3,
   "metadata": {},
   "outputs": [],
   "source": [
    "data = np.load(\"/home/arc11/moving-mnist-train.npz\")"
   ]
  },
  {
   "cell_type": "code",
   "execution_count": 8,
   "metadata": {},
   "outputs": [
    {
     "name": "stdout",
     "output_type": "stream",
     "text": [
      "clips\n",
      "dims\n",
      "input_raw_data\n",
      "0.99609375\n"
     ]
    }
   ],
   "source": [
    "for key in data.keys():\n",
    "    print(key)\n",
    "\n",
    "a = data['input_raw_data'][4, :, :, :]\n",
    "b = np.zeros((3, 64, 64))\n",
    "b[0, : , :] = a\n",
    "b[1, : , :] = a\n",
    "b[2, : , :] = a\n",
    "print(np.max(b))\n",
    "\n"
   ]
  },
  {
   "cell_type": "code",
   "execution_count": 5,
   "metadata": {},
   "outputs": [
    {
     "name": "stdout",
     "output_type": "stream",
     "text": [
      "[   0    1    2 ... 9997 9998 9999]\n"
     ]
    }
   ],
   "source": [
    "print(np.arange(data['clips'].shape[1],dtype=\"int32\"))"
   ]
  },
  {
   "cell_type": "code",
   "execution_count": 6,
   "metadata": {},
   "outputs": [
    {
     "data": {
      "text/plain": [
       "<matplotlib.image.AxesImage at 0x7f05420360f0>"
      ]
     },
     "execution_count": 6,
     "metadata": {},
     "output_type": "execute_result"
    },
    {
     "data": {
      "image/png": "[encoded data removed]",
      "text/plain": [
       "<Figure size 432x288 with 1 Axes>"
      ]
     },
     "metadata": {
      "needs_background": "light"
     },
     "output_type": "display_data"
    }
   ],
   "source": [
    "plt.imshow(data['input_raw_data'][4, 0, :, :], cmap='gray')"
   ]
  },
  {
   "cell_type": "code",
   "execution_count": 4,
   "metadata": {},
   "outputs": [],
   "source": [
    "root = \"/fs0/\"\n",
    "sport = \"vollyball\""
   ]
  },
  {
   "cell_type": "code",
   "execution_count": 11,
   "metadata": {},
   "outputs": [
    {
     "name": "stdout",
     "output_type": "stream",
     "text": [
      "0\n",
      "1000\n",
      "2000\n",
      "3000\n",
      "4000\n",
      "5000\n",
      "6000\n",
      "7000\n",
      "8000\n",
      "9000\n",
      "10000\n",
      "11000\n",
      "12000\n",
      "13000\n",
      "14000\n",
      "15000\n",
      "16000\n",
      "17000\n",
      "18000\n",
      "19000\n",
      "20000\n",
      "21000\n",
      "22000\n",
      "23000\n",
      "24000\n",
      "25000\n",
      "26000\n",
      "27000\n",
      "28000\n",
      "29000\n",
      "30000\n",
      "31000\n",
      "32000\n",
      "33000\n",
      "34000\n",
      "35000\n",
      "36000\n",
      "37000\n",
      "38000\n",
      "39000\n",
      "40000\n",
      "41000\n",
      "42000\n",
      "43000\n",
      "44000\n",
      "45000\n",
      "46000\n",
      "47000\n",
      "48000\n",
      "49000\n",
      "50000\n",
      "51000\n",
      "52000\n",
      "53000\n",
      "54000\n",
      "55000\n",
      "56000\n",
      "57000\n",
      "58000\n",
      "59000\n"
     ]
    }
   ],
   "source": [
    "save_data = {}\n",
    "filename = root+\"vol.mp4\"\n",
    "vid = imageio.get_reader(filename,  'ffmpeg')\n",
    "input_raw_data = np.zeros((60000,3, 88,160))\n",
    "for num in range(60000):\n",
    "    image = vid.get_data(num)\n",
    "    reformatted_img = np.swapaxes(np.swapaxes(image, 2, 1), 1, 0)\n",
    "    input_raw_data[num, :, :, :] = np.divide(reformatted_img, 255.0)\n",
    "    if(num%1000 == 0):\n",
    "        print(num)"
   ]
  },
  {
   "cell_type": "code",
   "execution_count": 12,
   "metadata": {},
   "outputs": [],
   "source": [
    "dims = [[3, 88, 160]]\n",
    "clips = np.zeros((2, 2000, 2))\n",
    "for i in range(10, 2000):\n",
    "    clips[0][i][0] = i*20\n",
    "    clips[0][i][1] = 10\n",
    "    clips[1][i][0] = i*20+10\n",
    "    clips[1][i][1] = 10\n",
    "\n",
    "np.savez(root+\"train_\"+sport+\"_data_1.npz\", input_raw_data=input_raw_data, clips=clips, dims=dims)"
   ]
  },
  {
   "cell_type": "code",
   "execution_count": 13,
   "metadata": {},
   "outputs": [],
   "source": [
    "clips = np.zeros((2, 500, 2))\n",
    "for i in range(500):\n",
    "    clips[0][i][0] = i*20+2000\n",
    "    clips[0][i][1] = 10\n",
    "    clips[1][i][0] = i*20+10+2000\n",
    "    clips[1][i][1] = 10\n",
    "np.savez(root+\"val_\"+sport+\"_data_1.npz\", input_raw_data=input_raw_data, clips=clips, dims=dims)"
   ]
  },
  {
   "cell_type": "code",
   "execution_count": 14,
   "metadata": {},
   "outputs": [],
   "source": [
    "clips= np.zeros((2, 499, 2))\n",
    "for i in range(499):\n",
    "    clips[0][i][0] = i*20+2500\n",
    "    clips[0][i][1] = 10\n",
    "    clips[1][i][0] = i*20+10+2500\n",
    "    clips[1][i][1] = 10\n",
    "np.savez(root+\"test_\"+sport+\"_data_1.npz\", input_raw_data=input_raw_data, clips=clips, dims=dims)\n"
   ]
  },
  {
   "cell_type": "code",
   "execution_count": null,
   "metadata": {},
   "outputs": [],
   "source": []
  },
  {
   "cell_type": "code",
   "execution_count": 18,
   "metadata": {},
   "outputs": [
    {
     "data": {
      "text/plain": [
       "<matplotlib.image.AxesImage at 0x7f0684980518>"
      ]
     },
     "execution_count": 18,
     "metadata": {},
     "output_type": "execute_result"
    },
    {
     "data": {
      "image/png": "[encoded data removed]",
      "text/plain": [
       "<Figure size 432x288 with 1 Axes>"
      ]
     },
     "metadata": {
      "needs_background": "light"
     },
     "output_type": "display_data"
    }
   ],
   "source": [
    "plt.imshow(np.swapaxes(np.swapaxes(input_raw_data[24010], 0, 1), 1, 2))"
   ]
  },
  {
   "cell_type": "code",
   "execution_count": null,
   "metadata": {},
   "outputs": [],
   "source": []
  }
 ],
 "metadata": {
  "kernelspec": {
   "display_name": "Python 3",
   "language": "python",
   "name": "python3"
  },
  "language_info": {
   "codemirror_mode": {
    "name": "ipython",
    "version": 3
   },
   "file_extension": ".py",
   "mimetype": "text/x-python",
   "name": "python",
   "nbconvert_exporter": "python",
   "pygments_lexer": "ipython3",
   "version": "3.6.5"
  }
 },
 "nbformat": 4,
 "nbformat_minor": 2
}
